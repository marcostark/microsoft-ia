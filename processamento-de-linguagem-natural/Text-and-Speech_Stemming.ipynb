{
 "cells": [
  {
   "cell_type": "code",
   "execution_count": 2,
   "metadata": {},
   "outputs": [],
   "source": [
    "import nltk \n",
    "nltk.download(\"stopwords\")\n",
    "from nltk.corpus import stopwords\n",
    "\n",
    "# Pegando documento do Github e abrindo\n",
    "!curl https://raw.githubusercontent.com/MicrosoftLearning/AI-Introduction/master/files/KennedyInaugural.txt -o KennedyInaugural.txt\n",
    "docKen = open(\"KennedyInaugural.txt\", \"r\", encoding = \"ISO-8859-1\")\n",
    "docKenTxt = docKen.read()\n",
    "\n",
    "\n",
    "from string import punctuation\n",
    "txt = ''.join(n for n in docKenTxt if not n.isdigit())\n",
    "txt = ''.join(n for n in txt if n not in punctuation).lower()\n",
    "txt = ' '.join([word for word in txt.split() if word not in (stopwords.words('english'))])\n",
    "\n",
    "# imprimindo o texto normalizado\n",
    "print(txt)\n",
    "print(\"--------------------------------------------------------------------------------------------------------\")"
   ]
  },
  {
   "cell_type": "code",
   "execution_count": 4,
   "metadata": {},
   "outputs": [
    {
     "name": "stdout",
     "output_type": "stream",
     "text": [
      "[nltk_data] Downloading package punkt to /home/mrcs/nltk_data...\n",
      "[nltk_data]   Package punkt is already up-to-date!\n"
     ]
    }
   ],
   "source": [
    "%matplotlib inline\n",
    "import matplotlib.pyplot as plt\n",
    "import nltk \n",
    "import pandas as pd\n",
    "from nltk.probability import FreqDist\n",
    "nltk.download(\"punkt\")\n",
    "\n",
    "# Tokenizar o texto em palavras individuais\n",
    "words = nltk.tokenize.word_tokenize(txt)\n",
    "# Pegar a distribuicao de frequencia das palavras e colocar em um \"data frame\"\n",
    "fdist = FreqDist(words)\n",
    "count_frame = pd.DataFrame(fdist, index = [0]).T\n",
    "count_frame.columns = ['Count']\n",
    "\n",
    "# Ordenar os dados por frequencia\n",
    "counts = count_frame.sort_values('Count', ascending = False)\n",
    "# Mostrar no gráfico as 60 palavras mais frequentes\n",
    "fig = plt.figure(figsize=(16, 9))\n",
    "ax = fig.gca()\n",
    "counts['Count'][:60].plot(kind = 'bar', ax = ax)\n",
    "ax.set_title('Frequencia de palavras mais comuns')\n",
    "ax.set_ylabel('Frequencia de palavras')\n",
    "ax.set_xlabel('Palavra')\n",
    "plt.show()"
   ]
  },
  {
   "cell_type": "markdown",
   "metadata": {},
   "source": [
    "### Stem as palavras usando o Porter stemmer"
   ]
  },
  {
   "cell_type": "code",
   "execution_count": 7,
   "metadata": {},
   "outputs": [],
   "source": [
    "from nltk.stem.porter import PorterStemmer\n",
    "\n",
    "# Obtem o radical das palavras\n",
    "ps = PorterStemmer()\n",
    "stems = [ps.stem(word) for word in words]\n",
    "\n",
    "# Obtem a distribuição de frequencia\n",
    "fdist = FreqDist(stems)\n",
    "count_frame = pd.DataFrame(fdist, index = [0]).T\n",
    "count_frame.columns = ['Count']\n",
    "\n",
    "# Plata a frequencia\n",
    "counts = count_frame.sort_values('Count', ascending = False)\n",
    "# Mostrar no gráfico as 60 palavras mais frequentes\n",
    "fig = plt.figure(figsize=(16, 9))\n",
    "ax = fig.gca()\n",
    "counts['Count'][:60].plot(kind = 'bar', ax = ax)\n",
    "ax.set_title('Frequencia de palavras mais comuns')\n",
    "ax.set_ylabel('Frequencia de palavras')\n",
    "ax.set_xlabel('Palavra')\n",
    "plt.show()"
   ]
  },
  {
   "cell_type": "code",
   "execution_count": null,
   "metadata": {},
   "outputs": [],
   "source": []
  }
 ],
 "metadata": {
  "kernelspec": {
   "display_name": "Python 3",
   "language": "python",
   "name": "python3"
  },
  "language_info": {
   "codemirror_mode": {
    "name": "ipython",
    "version": 3
   },
   "file_extension": ".py",
   "mimetype": "text/x-python",
   "name": "python",
   "nbconvert_exporter": "python",
   "pygments_lexer": "ipython3",
   "version": "3.6.5"
  }
 },
 "nbformat": 4,
 "nbformat_minor": 2
}
