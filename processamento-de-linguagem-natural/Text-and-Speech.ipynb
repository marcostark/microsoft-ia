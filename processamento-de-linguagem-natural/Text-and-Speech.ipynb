{
 "cells": [
  {
   "cell_type": "code",
   "execution_count": 7,
   "metadata": {},
   "outputs": [],
   "source": [
    "# Pegando documento do Github e abrindo\n",
    "!curl https://raw.githubusercontent.com/MicrosoftLearning/AI-Introduction/master/files/Moon.txt -o Moon.txt\n",
    "    \n",
    "# Abrindo documento em modo de leitura e imprimindo seu conteudo\n",
    "doc1 = open(\"Moon.txt\", \"r\")\n",
    "doc1Txt = doc1.read()\n",
    "print(doc1Txt)"
   ]
  },
  {
   "cell_type": "code",
   "execution_count": 3,
   "metadata": {},
   "outputs": [],
   "source": [
    "# Normalizar o texto\n",
    "\n",
    "from string import punctuation\n",
    "\n",
    "# removendo numeros\n",
    "txt = ''.join(n for n in doc1Txt if not n.isdigit())\n",
    "\n",
    "# removendo pontuacao e convertendo todo o texto para minusculo\n",
    "txt = ''.join(n for n in txt if n not in punctuation).lower()\n",
    "\n",
    "# imprimindo o texto normalizado\n",
    "print(txt)"
   ]
  },
  {
   "cell_type": "code",
   "execution_count": 4,
   "metadata": {},
   "outputs": [
    {
     "name": "stdout",
     "output_type": "stream",
     "text": [
      "[nltk_data] Downloading package punkt to /home/mrcs/nltk_data...\n",
      "[nltk_data]   Package punkt is already up-to-date!\n"
     ]
    }
   ],
   "source": [
    "# descobrir a frequencia em que as palabras aparecem no texto\n",
    "\n",
    "import nltk \n",
    "import pandas as pd\n",
    "from nltk.probability import FreqDist\n",
    "nltk.download(\"punkt\")\n",
    "\n",
    "# Tokenizar o texto em palabras individuais\n",
    "words = nltk.tokenize.word_tokenize(txt)\n",
    "\n",
    "# Pegar a distribuicao de frequencia das palavras e colocar em um \"data frame\"\n",
    "fdist = FreqDist(words)\n",
    "count_frame = pd.DataFrame(fdist, index = [0]).T\n",
    "count_frame.columns = ['Count']\n",
    "print(count_frame)"
   ]
  },
  {
   "cell_type": "code",
   "execution_count": 12,
   "metadata": {},
   "outputs": [
    {
     "data": {
      "text/plain": [
       "Text(0.5,17.2,'Palavra')"
      ]
     },
     "execution_count": 12,
     "metadata": {},
     "output_type": "execute_result"
    }
   ],
   "source": [
    "# Plotar a distribuicao de palavras em um gráfico de Pareto\n",
    "\n",
    "%matplotlib inline\n",
    "import matplotlib.pyplot as plt\n",
    "\n",
    "# Ordenar os dados por frequencia\n",
    "counts = count_frame.sort_values('Count', ascending = False)\n",
    "\n",
    "# Mostrar no gráfico as 60 palavras mais frequentes\n",
    "fig = plt.figure(figsize=(16, 9))\n",
    "ax = fig.gca()\n",
    "counts['Count'][:60].plot(kind = 'bar', ax = ax)\n",
    "ax.set_title('Frequencia de palavras mais comuns')\n",
    "ax.set_ylabel('Frequencia de palavras')\n",
    "ax.set_xlabel('Palavra')\n",
    "plt.show()"
   ]
  },
  {
   "cell_type": "code",
   "execution_count": 14,
   "metadata": {},
   "outputs": [
    {
     "data": {
      "text/plain": [
       "Text(0.5,17.2,'Palavra')"
      ]
     },
     "execution_count": 14,
     "metadata": {},
     "output_type": "execute_result"
    }
   ],
   "source": [
    "# Removendo \"stop words\"\n",
    "\n",
    "# Obtem um lista de \"stop words\"\n",
    "#nltk.download(\"stopwords\")\n",
    "from nltk.corpus import stopwords\n",
    "\n",
    "# Filtra as \"stop words\"\n",
    "txt = ' '.join([word for word in txt.split() if word not in (stopwords.words('english'))])\n",
    "\n",
    "# Obtem a distribuição de freqüência das palavras restantes\n",
    "words = nltk.tokenize.word_tokenize(txt)\n",
    "fdist = FreqDist(words)\n",
    "count_frame = pd.DataFrame(fdist, index = [0]).T\n",
    "count_frame.columns = ['Count']\n",
    "\n",
    "# Mostra no gráfico as 60 palavras mais frequentes\n",
    "counts = count_frame.sort_values('Count', ascending = False)\n",
    "fig = plt.figure(figsize=(16, 9))\n",
    "ax = fig.gca()\n",
    "#counts['Count'][:60].plot(kind = 'bar', ax = ax)\n",
    "ax.set_title('Frequencia de palavras mais comuns')\n",
    "ax.set_ylabel('Frequencia de palavras')\n",
    "ax.set_xlabel('Palavra')\n",
    "plt.show()"
   ]
  },
  {
   "cell_type": "code",
   "execution_count": null,
   "metadata": {},
   "outputs": [],
   "source": [
    "# As palavras mais frequentes do texto não é uma exata indicação do assunto\n",
    "# mas é possivél ter um ideia sobre o que se trata."
   ]
  }
 ],
 "metadata": {
  "kernelspec": {
   "display_name": "Python 3",
   "language": "python",
   "name": "python3"
  },
  "language_info": {
   "codemirror_mode": {
    "name": "ipython",
    "version": 3
   },
   "file_extension": ".py",
   "mimetype": "text/x-python",
   "name": "python",
   "nbconvert_exporter": "python",
   "pygments_lexer": "ipython3",
   "version": "3.6.5"
  }
 },
 "nbformat": 4,
 "nbformat_minor": 2
}
